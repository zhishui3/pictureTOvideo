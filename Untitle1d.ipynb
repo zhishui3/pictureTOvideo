{
 "cells": [
  {
   "cell_type": "code",
   "execution_count": 7,
   "metadata": {},
   "outputs": [],
   "source": [
    "import numpy as np\n",
    "import cv2 as cv\n",
    "import math\n",
    "\n",
    "noble = cv.imread('noble.jpg', cv.IMREAD_COLOR)\n",
    "lena = cv.imread('lena.jpg', cv.IMREAD_COLOR)\n",
    "result = cv.imread('noble.jpg', cv.IMREAD_COLOR)\n",
    "\n",
    "red=lena.copy()\n",
    "# red[:,:,0]=0\n",
    "# red[:,:,1]=0\n",
    "\n",
    "X = noble.shape[0]\n",
    "Y = noble.shape[1]\n",
    "R = math.sqrt((X/2) * (X/2) + (Y/2) * (Y/2))\n",
    "T = 30\n",
    "for t in range(0, T + 1):\n",
    "    r = math.floor(R * t / T)\n",
    "    for x in range(0, X):\n",
    "        for y in range(0, Y):\n",
    "            d = math.sqrt((X/2 - x) * (X/2 - x) + (Y/2 - y) * (Y/2 - y))\n",
    "            if d < r:\n",
    "                result.itemset((x, y, 0), red.item(x, y, 0))\n",
    "                result.itemset((x, y, 1), red.item(x, y, 1))\n",
    "                result.itemset((x, y, 2), red.item(x, y, 2))\n",
    "            else:\n",
    "                result.itemset((x, y, 0), noble.item(x, y, 0))\n",
    "                result.itemset((x, y, 1), noble.item(x, y, 1))\n",
    "                result.itemset((x, y, 2), noble.item(x, y, 2))\n",
    "    cv.imshow('transition', result)\n",
    "    cv.waitKey(1)\n",
    "cv.waitKey(0)\n",
    "cv.destroyAllWindows()\n"
   ]
  },
  {
   "cell_type": "code",
   "execution_count": 9,
   "metadata": {},
   "outputs": [],
   "source": [
    "import numpy as np\n",
    "import cv2 as cv\n",
    "import math\n",
    "def tran(newp,oldp):\n",
    "    noble = cv.imread(oldp, cv.IMREAD_COLOR)\n",
    "    lena = cv.imread(newp, cv.IMREAD_COLOR)\n",
    "    result = cv.imread(oldp, cv.IMREAD_COLOR)\n",
    "\n",
    "    red=lena.copy()\n",
    "# red[:,:,0]=0\n",
    "# red[:,:,1]=0\n",
    "\n",
    "    X = noble.shape[0]\n",
    "    Y = noble.shape[1]\n",
    "    R = math.sqrt((X/2) * (X/2) + (Y/2) * (Y/2))\n",
    "    T = 30\n",
    "    for t in range(0, T + 1):\n",
    "        r = math.floor(R * t / T)\n",
    "        for x in range(0, X):\n",
    "            for y in range(0, Y):\n",
    "                d = math.sqrt((X/2 - x) * (X/2 - x) + (Y/2 - y) * (Y/2 - y))\n",
    "                if d < r:\n",
    "                    result.itemset((x, y, 0), red.item(x, y, 0))\n",
    "                    result.itemset((x, y, 1), red.item(x, y, 1))\n",
    "                    result.itemset((x, y, 2), red.item(x, y, 2))\n",
    "                else:\n",
    "                    result.itemset((x, y, 0), noble.item(x, y, 0))\n",
    "                    result.itemset((x, y, 1), noble.item(x, y, 1))\n",
    "                    result.itemset((x, y, 2), noble.item(x, y, 2))\n",
    "        cv.imshow('transition', result)\n",
    "        cv.waitKey(1)\n",
    "    cv.waitKey(0)\n",
    "    cv.destroyAllWindows()\n",
    "tran('lena.jpg','noble.jpg')"
   ]
  },
  {
   "cell_type": "code",
   "execution_count": null,
   "metadata": {},
   "outputs": [],
   "source": [
    "import glob\n",
    "\n"
   ]
  }
 ],
 "metadata": {
  "kernelspec": {
   "display_name": "Python 3",
   "language": "python",
   "name": "python3"
  },
  "language_info": {
   "codemirror_mode": {
    "name": "ipython",
    "version": 3
   },
   "file_extension": ".py",
   "mimetype": "text/x-python",
   "name": "python",
   "nbconvert_exporter": "python",
   "pygments_lexer": "ipython3",
   "version": "3.6.6rc1"
  }
 },
 "nbformat": 4,
 "nbformat_minor": 2
}
