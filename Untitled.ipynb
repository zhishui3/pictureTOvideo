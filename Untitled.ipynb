{
 "cells": [
  {
   "cell_type": "code",
   "execution_count": 96,
   "metadata": {},
   "outputs": [],
   "source": [
    "#提取imge目录下所有图片,更改尺寸后保存到image目录下\n",
    "from PIL import Image\n",
    "import os.path\n",
    "import glob\n",
    "def convertjpg(jpgfile,outdir,width=384,height=288):\n",
    "    img=Image.open(jpgfile)\n",
    "    try:\n",
    "        new_img=img.resize((width,height),Image.BILINEAR)   \n",
    "        new_img.save(os.path.join(outdir,os.path.basename(jpgfile)))\n",
    "    except Exception as e:\n",
    "        print(e)\n",
    "# for jpgfile in glob.glob(\"image/1/*.jpg\"):\n",
    "#     convertjpg(jpgfile,\"image/w\")"
   ]
  },
  {
   "cell_type": "code",
   "execution_count": 9,
   "metadata": {},
   "outputs": [
    {
     "ename": "NameError",
     "evalue": "name 'ffmpeg' is not defined",
     "output_type": "error",
     "traceback": [
      "\u001b[1;31m---------------------------------------------------------------------------\u001b[0m",
      "\u001b[1;31mNameError\u001b[0m                                 Traceback (most recent call last)",
      "\u001b[1;32m<ipython-input-9-45c1f1351b24>\u001b[0m in \u001b[0;36m<module>\u001b[1;34m()\u001b[0m\n\u001b[0;32m      1\u001b[0m \u001b[1;31m# ffmpeg -f concat -i f.txt -c copy concat-1-03.mp4\u001b[0m\u001b[1;33m\u001b[0m\u001b[1;33m\u001b[0m\u001b[0m\n\u001b[1;32m----> 2\u001b[1;33m \u001b[0mffmpeg\u001b[0m\u001b[1;33m\u001b[0m\u001b[0m\n\u001b[0m",
      "\u001b[1;31mNameError\u001b[0m: name 'ffmpeg' is not defined"
     ]
    }
   ],
   "source": [
    "# ffmpeg -f concat -i f.txt -c copy concat-1-03.mp4"
   ]
  },
  {
   "cell_type": "code",
   "execution_count": 2,
   "metadata": {},
   "outputs": [
    {
     "name": "stdout",
     "output_type": "stream",
     "text": [
      "[MoviePy] >>>> Building video w1w.mp4\n",
      "[MoviePy] Writing audio in w1wTEMP_MPY_wvf_snd.mp3\n"
     ]
    },
    {
     "name": "stderr",
     "output_type": "stream",
     "text": [
      "100%|███████████████████████████████████████| 727/727 [00:00<00:00, 942.88it/s]\n"
     ]
    },
    {
     "name": "stdout",
     "output_type": "stream",
     "text": [
      "[MoviePy] Done.\n",
      "[MoviePy] Writing video w1w.mp4\n"
     ]
    },
    {
     "name": "stderr",
     "output_type": "stream",
     "text": [
      "100%|████████████████████████████████████████| 693/693 [00:05<00:00, 59.48it/s]\n"
     ]
    },
    {
     "name": "stdout",
     "output_type": "stream",
     "text": [
      "[MoviePy] Done.\n",
      "[MoviePy] >>>> Video ready: w1w.mp4 \n",
      "\n"
     ]
    }
   ],
   "source": [
    "# import imageio\n",
    "# import ssl\n",
    "\n",
    "# # 下面这一句不是必须的, 但是某些情况下访问 https 会报SSL证书不受信任, 加上这一句可以允许通过\n",
    "# ssl._create_default_https_context = ssl._create_unverified_context\n",
    "\n",
    "# # 下载 ffmpeg 组件\n",
    "# imageio.plugins.ffmpeg.download()\n",
    "from moviepy.editor import VideoFileClip, concatenate_videoclips\n",
    " \n",
    "clip1 = VideoFileClip(\"7.mp4\")\n",
    "clip2 = VideoFileClip(\"w1.mp4\")#.subclip(7,8)\n",
    "\n",
    "finalclip = concatenate_videoclips([clip1, clip2])\n",
    "finalclip.write_videofile(\"w1w.mp4\")"
   ]
  },
  {
   "cell_type": "code",
   "execution_count": 2,
   "metadata": {},
   "outputs": [
    {
     "name": "stdout",
     "output_type": "stream",
     "text": [
      "0.9463154453089017\n",
      "0.28403273579002375\n",
      "0.3256954567861382\n",
      "0.9453457076629547\n",
      "0.2519662151145312\n",
      "0.2468651330458711\n",
      "0.74643866064204\n"
     ]
    }
   ],
   "source": [
    "from PIL import Image\n",
    "import cv2\n",
    "import matplotlib.pyplot as plt\n",
    "import time\n",
    "import numpy as np\n",
    "import os\n",
    "import glob\n",
    "import random\n",
    "video=cv2.VideoWriter(\"aaa.avi\", cv2.cv2.VideoWriter_fourcc('I','4','2','0'), \n",
    "                     15,(384,288))  \n",
    "for jpgfile in glob.glob(\"c/*.jpg\"):\n",
    "#     img1 = cv2.imread(jpgfile)\n",
    "    img=Image.open(jpgfile)  #打开图像\n",
    "#     imm = cv2.imread(jpgfile)\n",
    "    font = cv2.FONT_HERSHEY_SIMPLEX  # 使用默认字体\n",
    "    aa = random.random()\n",
    "    print(aa)\n",
    "    maxm =min(img.size[0],img.size[1])\n",
    "    step = 1 if img.size[0]<500 else 5 \n",
    "    ###########     推  拉   左移  右移\n",
    "    for i in range(1,maxm,step):\n",
    "        if aa>=0.75:\n",
    "            box=([(img.size[0]/4)-i,(img.size[1]/4)-i,(img.size[0]*3/4)+i,(img.size[1]*3/4)+i]) \n",
    "            if (img.size[0]/4)-i<0 or img.size[0]*3/4+i>img.size[0] or img.size[1]*3/4+i>img.size[1] or (img.size[1]/4)-i<0:\n",
    "                break\n",
    "        elif 0.5<=aa<0.75:\n",
    "            box=([i,i,(img.size[0])-i,(img.size[1])-i]) \n",
    "            if (img.size[0])-i<0 or (img.size[1])-i<0 or (img.size[1])-2*i <= 0 or (img.size[0])-2*i <= 0 or ((img.size[0]-2*i))/((img.size[1])-2*i)<=1/2 or ((img.size[1]-2*i))/((img.size[0])-2*i)<=1/2:\n",
    "                break\n",
    "        elif 0.25<=aa<0.5:\n",
    "            box = ([(img.size[0]/4)-i,0,(img.size[0])-i,(img.size[1])])\n",
    "            if (img.size[0]/4)-i<0:\n",
    "                break\n",
    "        else:\n",
    "            box = ([i,0,(img.size[0]*3/4)+i,(img.size[1])])\n",
    "            if (img.size[0]*3/4)+i>img.size[0]:\n",
    "                break\n",
    "        a = cv2.cvtColor(np.asarray(img.crop(box).resize((384,288),Image.BILINEAR)),\n",
    "                         cv2.COLOR_RGB2BGR)\n",
    "        a = cv2.putText(a, \"胡百精（中国人民大学）\", (90,200),font, 1.2, (0,0,0),2)\n",
    "        video.write(a)\n",
    "#     cv2.imshow('transition',gg)\n",
    "# cv2.waitKey(0)\n",
    "    key=cv2.waitKey(0)\n",
    "video.release()\n",
    "cv2.destroyAllWindows()\n",
    "#     time.sleep(1)"
   ]
  },
  {
   "cell_type": "code",
   "execution_count": 12,
   "metadata": {},
   "outputs": [],
   "source": [
    "from PIL import Image\n",
    "import numpy as np\n",
    "im = Image.open(\"imge/2-1.jpg\")\n",
    "# im.show()\n",
    "import cv2\n",
    "box = (0, 0, 50, 50)              ##确定拷贝区域大小\n",
    "# regio = im.crop(box)                  \n",
    "# region = regio.resize((im.size[0],im.size[1]))\n",
    "a = cv2.cvtColor(np.asarray(im.crop(box).resize((384,288),Image.BILINEAR)),\n",
    "                         cv2.COLOR_RGB2BGR)\n",
    "cv2.imshow('aa',a)\n",
    "cv2.waitKey(0)\n",
    "cv2.destroyAllWindows()"
   ]
  },
  {
   "cell_type": "code",
   "execution_count": 73,
   "metadata": {},
   "outputs": [],
   "source": [
    "#视频叠加\n",
    "# # https://blog.csdn.net/ucsheep/article/details/81329598\n",
    "# from moviepy.editor import VideoFileClip, clips_array, vfx\n",
    " \n",
    "# clip1 = VideoFileClip(\"myvideo.mp4\").margin(10)\n",
    "# clip2 = clip1.fx(vfx.mirror_x)#x轴镜像\n",
    "# clip3 = clip1.fx(vfx.mirror_y)#y轴镜像\n",
    "# clip4 = clip1.resize(0.6)#尺寸等比缩放0.6\n",
    " \n",
    "# final_clip = clips_array([\n",
    "#                             [clip1, clip2],\n",
    "#                             [clip3, clip3]\n",
    "#                         ])\n",
    "# final_clip.resize(width=480).write_videofile(\"my_stack.mp4\")\n",
    "# # https://www.cnblogs.com/traditional/p/9043931.html#commentform \n",
    "# # 图片平移旋转滤镜等"
   ]
  },
  {
   "cell_type": "code",
   "execution_count": 76,
   "metadata": {},
   "outputs": [],
   "source": [
    "#-*- coding: UTF-8 -*-  \n",
    " \n",
    "import imageio\n",
    " \n",
    "def create_gif(image_list, gif_name):\n",
    " \n",
    "    frames = []\n",
    "    for image_name in image_list:\n",
    "        frames.append(imageio.imread(image_name))\n",
    "    # Save them as frames into a gif \n",
    "    imageio.mimsave(gif_name, frames, 'GIF', duration = 0.1)\n",
    " \n",
    "    return\n",
    " \n",
    "def main():\n",
    "    image_list = ['imge/2-1.jpg', 'imge/2-2.jpg', 'imge/2-3.jpg', \n",
    "                  'imge/2-4.jpg', 'imge/2-5.jpg', 'imge/2-6.jpg']\n",
    "    gif_name = 'created_gif.gif'\n",
    "    create_gif(image_list, gif_name)\n",
    "if __name__ == \"__main__\":\n",
    "    main()\n"
   ]
  },
  {
   "cell_type": "code",
   "execution_count": null,
   "metadata": {},
   "outputs": [],
   "source": [
    "elif 0.5<=aa<0.7:\n",
    "            if 1/2<img.size[0]/img.size[1]<2:\n",
    "#             box=([(img.size[0]/4)-i,(img.size[1]/4)-i,(img.size[0]*3/4)+i,(img.size[1]*3/4)+i])\n",
    "            #box=([0-i,0-i,img.size[0]+i,img.size[0]+i])\n",
    "                box = (0+i,0,(img.size[0]/2)+i,(img.size[1]))\n",
    "            else:\n",
    "                box = (0+i,0,(img.size[0]/4)+i,(img.size[1]))\n",
    "        elif 0.25<=aa<0.5:\n",
    "            aaa = (img.size[0]*1/2)-i if (img.size[0]*1/2)-i>0 else 0\n",
    "            ccc = img.size[0]-i #if img.size[0]-i>0 else img.size[0]\n",
    "#             box=([0+i,0+i,(img.size[0]*3/4)-i,(img.size[0]*3/4)-i])\n",
    "            if 1/2<img.size[0]/img.size[1]<2:\n",
    "                \n",
    "                box = ([aaa,0,ccc,img.size[1]])\n",
    "            else:\n",
    "                box = ([aaa,0,ccc,img.size[1]])"
   ]
  },
  {
   "cell_type": "code",
   "execution_count": null,
   "metadata": {},
   "outputs": [],
   "source": []
  }
 ],
 "metadata": {
  "kernelspec": {
   "display_name": "Python 3",
   "language": "python",
   "name": "python3"
  },
  "language_info": {
   "codemirror_mode": {
    "name": "ipython",
    "version": 3
   },
   "file_extension": ".py",
   "mimetype": "text/x-python",
   "name": "python",
   "nbconvert_exporter": "python",
   "pygments_lexer": "ipython3",
   "version": "3.6.6rc1"
  }
 },
 "nbformat": 4,
 "nbformat_minor": 2
}
