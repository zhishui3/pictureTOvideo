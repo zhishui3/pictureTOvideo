{
 "cells": [
  {
   "cell_type": "code",
   "execution_count": 2,
   "metadata": {},
   "outputs": [],
   "source": [
    "#https://docs.opencv.org/master/dd/d9e/classcv_1_1VideoWriter.html\n",
    "#ourcc\t4-character code of codec used to compress the frames. For example, VideoWriter::fourcc('P','I','M','1') is a MPEG-1 codec, VideoWriter::fourcc('M','J','P','G') is a motion-jpeg codec etc. List of codes can be obtained at Video Codecs by FOURCC page. FFMPEG backend with MP4 container natively uses other values as fourcc code: see ObjectType, so you may receive a warning message from OpenCV about fourcc code conversion.\n",
    "from PIL import Image\n",
    "import cv2\n",
    "import matplotlib.pyplot as plt\n",
    "import time\n",
    "import numpy as np\n",
    "import os\n",
    "import glob\n",
    "import random\n",
    "video=cv2.VideoWriter(\"b.avi\", cv2.cv2.VideoWriter_fourcc('I','4','2','0'), \n",
    "                      10,(384,288))  \n",
    "for jpgfile in glob.glob(\"b/*.jpg\"):\n",
    "#     img1 = cv2.imread(jpgfile)\n",
    "    img=Image.open(jpgfile)  #打开图像\n",
    "    imm = cv2.imread(jpgfile)\n",
    "#     img1 = cv2.imread(jpgfile)\n",
    "    font = cv2.FONT_HERSHEY_SIMPLEX  # 使用默认字体\n",
    "    #https://docs.opencv.org/master/d6/d6e/group__imgproc__draw.\n",
    "    #html#ga5126f47f883d730f633d74f07456c576\n",
    "    imm = cv2.putText(imm, jpgfile, (40, 40), font, 0.8, (255, 255, 255), 1)\n",
    "    aa = random.random()\n",
    "    for i in range(1,100,5):\n",
    "        if aa>0.5:\n",
    "            box=([(img.size[0]/4)-i,(img.size[1]/4)-i,(img.size[0]*3/4)+i,\n",
    "          (img.size[1]*3/4)+i])\n",
    "        else:\n",
    "            box=([(img.size[0]/4)+i,(img.size[1]/4)+i,(img.size[0]*3/4)-i,\n",
    "          (img.size[1]*3/4)-i])\n",
    "        a = cv2.cvtColor(np.asarray(img.crop(box).resize((384,288),Image.BILINEAR)),\n",
    "                         cv2.COLOR_RGB2BGR)\n",
    "        video.write(a)\n",
    "#     cv2.imshow('transition',gg)\n",
    "# cv2.waitKey(0)\n",
    "    key=cv2.waitKey(0)\n",
    "video.release()\n",
    "cv2.destroyAllWindows()"
   ]
  },
  {
   "cell_type": "code",
   "execution_count": 5,
   "metadata": {},
   "outputs": [
    {
     "name": "stdout",
     "output_type": "stream",
     "text": [
      "0.8784066723094313\n",
      "0.8707071362035198\n",
      "0.47535755033834126\n",
      "0.33752175213233915\n",
      "0.10516332240325743\n"
     ]
    }
   ],
   "source": [
    "from PIL import Image\n",
    "import cv2\n",
    "import matplotlib.pyplot as plt\n",
    "import time\n",
    "import numpy as np\n",
    "import os\n",
    "import glob\n",
    "import random\n",
    "video=cv2.VideoWriter(\"aa.avi\", cv2.cv2.VideoWriter_fourcc('I','4','2','0'), \n",
    "                     15,(384,288))  \n",
    "for jpgfile in glob.glob(\"imge/*.jpg\"):\n",
    "#     img1 = cv2.imread(jpgfile)\n",
    "    img=Image.open(jpgfile)  #打开图像\n",
    "    font = cv2.FONT_HERSHEY_SIMPLEX  # 使用默认字体\n",
    "    aa = random.random()\n",
    "    print(aa)\n",
    "    maxm =min(img.size[0],img.size[1])\n",
    "    step = 1 if img.size[0]<500 else 5 \n",
    "    for i in range(1,maxm,step):\n",
    "        aa = i\n",
    "        if aa>=0.75:\n",
    "            box=([(img.size[0]/4)-i,(img.size[1]/4)-i,(img.size[0]*3/4)+i,(img.size[1]*3/4)+i]) if (img.size[0]/4)-i>=0 and img.size[0]*3/4+i<=img.size[0] and img.size[1]*3/4+i<=img.size[1] and (img.size[1]/4)-i>=0 else ([0,0,img.size[0],img.size[1]])\n",
    "        elif 0.5<=aa<0.75:\n",
    "            box=([i,i,(img.size[0])-i,(img.size[1])-i]) if (img.size[0])-i>=0 and (img.size[1])-i>=0 else (([0,0,img.size[0],img.size[1]]))\n",
    "        elif 0.25<=aa<0.5:\n",
    "            box = ([(img.size[0]/4)-i,0,(img.size[0])-i,(img.size[1])]) if (img.size[0]/4)-i>=0 else ([0,0,img.size[0],img.size[1]])\n",
    "        else:\n",
    "            box = ([i,0,(img.size[0]*3/4)+i,(img.size[1])]) if (img.size[0]*3/4)+i<=img.size[0] else ([0,0,img.size[0],img.size[1]])\n",
    "        a = cv2.cvtColor(np.asarray(img.crop(box).resize((384,288),Image.BILINEAR)),\n",
    "                         cv2.COLOR_RGB2BGR)\n",
    "        a = cv2.putText(a, \"wwwwwwwwwwwwwwww\", (90,200),font, 1.2, (0,0,0),2)\n",
    "        video.write(a)\n",
    "#     cv2.imshow('transition',gg)\n",
    "# cv2.waitKey(0)\n",
    "    key=cv2.waitKey(0)\n",
    "video.release()\n",
    "cv2.destroyAllWindows()\n",
    "#     time.sleep(1)"
   ]
  },
  {
   "cell_type": "code",
   "execution_count": null,
   "metadata": {},
   "outputs": [],
   "source": []
  }
 ],
 "metadata": {
  "kernelspec": {
   "display_name": "Python 3",
   "language": "python",
   "name": "python3"
  },
  "language_info": {
   "codemirror_mode": {
    "name": "ipython",
    "version": 3
   },
   "file_extension": ".py",
   "mimetype": "text/x-python",
   "name": "python",
   "nbconvert_exporter": "python",
   "pygments_lexer": "ipython3",
   "version": "3.6.6rc1"
  }
 },
 "nbformat": 4,
 "nbformat_minor": 2
}
